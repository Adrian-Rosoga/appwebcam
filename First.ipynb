import pandas as pd
import matplotlib.pyplot as plt
df = pd.read_csv('D:\Root\Other\Dropbox\WebKitWeb.log')
df.index
df.plot()
plt.show()

#http://localhost:8888/notebooks/First.ipynb
#df.columns
#df.columns[2]
#df.index
#df.types
